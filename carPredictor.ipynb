{
 "cells": [
  {
   "cell_type": "code",
   "execution_count": null,
   "id": "f9281276-bc14-4678-83d7-63f19f7e6ca2",
   "metadata": {},
   "outputs": [],
   "source": [
    "import pandas as pd\n",
    "import numpy as np\n",
    "from sklearn.preprocessing import LabelEncoder, StandardScaler\n",
    "from sklearn.impute import SimpleImputer\n",
    "from tensorflow.keras.models import Sequential\n",
    "from tensorflow.keras.layers import LSTM, Dense, Dropout\n",
    "from tensorflow.keras.preprocessing.sequence import TimeseriesGenerator\n",
    "import tensorflow as tf"
   ]
  },
  {
   "cell_type": "code",
   "execution_count": null,
   "id": "bea120af-779a-4750-878c-cb90b3b9e168",
   "metadata": {},
   "outputs": [],
   "source": [
    "# Check if a GPU is available and set TensorFlow to use it\n",
    "print(\"Num GPUs Available: \", len(tf.config.experimental.list_physical_devices('GPU')))\n",
    "\n",
    "# If GPUs are available, ensure TensorFlow uses them\n",
    "if tf.config.experimental.list_physical_devices('GPU'):\n",
    "    tf.config.experimental.set_memory_growth(tf.config.experimental.list_physical_devices('GPU')[0], True)"
   ]
  },
  {
   "cell_type": "code",
   "execution_count": null,
   "id": "ae2255b8-07c4-473b-a26e-ae5814a30ad5",
   "metadata": {},
   "outputs": [],
   "source": [
    "# Load the datasets\n",
    "train_data = pd.read_csv('content/train.csv')\n",
    "test_data = pd.read_csv('content/test.csv')"
   ]
  },
  {
   "cell_type": "code",
   "execution_count": null,
   "id": "17138d2e-0789-4c32-953c-a0bbb981da96",
   "metadata": {},
   "outputs": [],
   "source": [
    "# Separate features and target variable from training data\n",
    "X_train = train_data.drop(columns=['price'])\n",
    "y_train = train_data['price']"
   ]
  },
  {
   "cell_type": "code",
   "execution_count": null,
   "id": "caf784f9-8e71-4c9c-b2b1-d7ddcbb70e22",
   "metadata": {},
   "outputs": [],
   "source": [
    "# Identify categorical and numerical columns\n",
    "categorical_columns = ['brand', 'model', 'fuel_type', 'transmission', 'accident','engine', 'milage', 'ext_col','int_col','clean_title']\n",
    "numerical_columns = ['model_year']"
   ]
  },
  {
   "cell_type": "code",
   "execution_count": null,
   "id": "38c0ea30-6cee-4acc-8241-4b78168315ea",
   "metadata": {},
   "outputs": [],
   "source": [
    "# Ensure all categorical columns are of type string\n",
    "X_train[categorical_columns] = X_train[categorical_columns].astype(str)\n",
    "test_data[categorical_columns] = test_data[categorical_columns].astype(str)\n",
    "print(X_train[categorical_columns])"
   ]
  },
  {
   "cell_type": "code",
   "execution_count": null,
   "id": "5ff49b44-f032-4a81-8b00-6892d4d859da",
   "metadata": {},
   "outputs": [],
   "source": [
    "# Handle missing values for categorical columns\n",
    "categorical_imputer = SimpleImputer(strategy='most_frequent')\n",
    "X_train[categorical_columns] = categorical_imputer.fit_transform(X_train[categorical_columns])\n",
    "test_data[categorical_columns] = categorical_imputer.transform(test_data[categorical_columns])"
   ]
  },
  {
   "cell_type": "code",
   "execution_count": null,
   "id": "e4254a3e-a81e-4bd0-89e2-2c1f11ba5e34",
   "metadata": {},
   "outputs": [],
   "source": [
    "# Handle missing values for numerical columns\n",
    "numerical_imputer = SimpleImputer(strategy='mean')\n",
    "X_train[numerical_columns] = numerical_imputer.fit_transform(X_train[numerical_columns].astype(int))\n",
    "test_data[numerical_columns] = numerical_imputer.transform(test_data[numerical_columns].astype(int))\n",
    "print(X_train[numerical_columns])"
   ]
  },
  {
   "cell_type": "code",
   "execution_count": null,
   "id": "ba99486c-d3b0-461f-b208-919e6147126c",
   "metadata": {},
   "outputs": [],
   "source": [
    "# Combine training and test data for label encoding\n",
    "combined_data = pd.concat([X_train[categorical_columns], test_data[categorical_columns]])\n",
    "print(combined_data)"
   ]
  },
  {
   "cell_type": "code",
   "execution_count": null,
   "id": "be8acaf1-bca3-4974-80cf-9adfeb4527d3",
   "metadata": {},
   "outputs": [],
   "source": [
    "# Encode categorical variables\n",
    "label_encoders = {}\n",
    "for column in categorical_columns:\n",
    "    label_encoders[column] = LabelEncoder()\n",
    "    combined_data[column] = label_encoders[column].fit_transform(combined_data[column])"
   ]
  },
  {
   "cell_type": "code",
   "execution_count": null,
   "id": "4e5f4e0a-a6d9-4c2a-9627-07ca16988262",
   "metadata": {},
   "outputs": [],
   "source": [
    "# Separate back the encoded data\n",
    "X_train[categorical_columns] = combined_data.iloc[:X_train.shape[0], :].values\n",
    "test_data[categorical_columns] = combined_data.iloc[X_train.shape[0]:, :].values"
   ]
  },
  {
   "cell_type": "code",
   "execution_count": null,
   "id": "e146cf52-ac46-4132-85be-7a93ded5c5e2",
   "metadata": {},
   "outputs": [],
   "source": [
    "# Combine encoded categorical columns and numerical columns for scaling\n",
    "X_train_combined = np.hstack((X_train[categorical_columns].astype(float), X_train[numerical_columns]))\n",
    "X_test_combined = np.hstack((test_data[categorical_columns].astype(float), test_data[numerical_columns]))\n",
    "print(X_train_combined)"
   ]
  },
  {
   "cell_type": "code",
   "execution_count": null,
   "id": "7dd6902e-b440-44b9-a64f-dfed9a7398f7",
   "metadata": {},
   "outputs": [],
   "source": [
    "# Normalize the features\n",
    "scaler = StandardScaler()\n",
    "X_train_scaled = scaler.fit_transform(X_train_combined)"
   ]
  },
  {
   "cell_type": "code",
   "execution_count": null,
   "id": "f394358f-c8a6-4ed4-98be-268a7e717fb9",
   "metadata": {},
   "outputs": [],
   "source": [
    "X_test_scaled = scaler.transform(X_test_combined)"
   ]
  },
  {
   "cell_type": "code",
   "execution_count": null,
   "id": "b9e32d10-285c-4b0a-bda0-c5d1bf136dd1",
   "metadata": {},
   "outputs": [],
   "source": [
    "# Prepare the data for the LSTM model\n",
    "n_input = 1\n",
    "n_features = X_train_scaled.shape[1]"
   ]
  },
  {
   "cell_type": "code",
   "execution_count": null,
   "id": "8bdb121f-010c-40dd-becc-f85b71ee1bd8",
   "metadata": {},
   "outputs": [],
   "source": [
    "train_generator = TimeseriesGenerator(X_train_scaled, y_train, length=n_input, batch_size=32)\n",
    "#test_generator = TimeseriesGenerator(X_test_scaled, np.zeros(len(X_test_scaled)), length=n_input, batch_size=32)\n",
    "\n",
    "# Build the LSTM model\n",
    "model = Sequential()\n",
    "model.add(LSTM(30, activation='relu', input_shape=(n_input, n_features)))\n",
    "model.add(Dropout(0.2))\n",
    "model.add(Dense(1))\n",
    "model.compile(optimizer='adam', loss='mse')"
   ]
  },
  {
   "cell_type": "code",
   "execution_count": null,
   "id": "7756cf31-0fb1-4202-88ae-626aa32b640c",
   "metadata": {},
   "outputs": [],
   "source": [
    "# Train the model\n",
    "from tensorflow.keras.callbacks import EarlyStopping\n",
    "early_stopping = EarlyStopping(monitor='val_loss', patience=5, restore_best_weights=True)\n",
    "history = model.fit(train_generator, epochs=170, callbacks=[early_stopping])\n",
    "\n",
    "#model.fit(train_generator, epochs=20)"
   ]
  },
  {
   "cell_type": "code",
   "execution_count": null,
   "id": "587fb7e0-ae9a-4be1-aa3d-883ea7c9353f",
   "metadata": {},
   "outputs": [],
   "source": [
    "# Make predictions\n",
    "#predictions = model.predict(test_generator)\n",
    "#predictions = predictions.flatten()\n",
    "X_test_expanded = np.expand_dims(X_test_scaled, axis=1)\n",
    "predictions = model.predict(X_test_expanded)\n",
    "predictions = predictions.flatten()\n"
   ]
  },
  {
   "cell_type": "code",
   "execution_count": null,
   "id": "0d34b4b6-61b0-49fd-b3f0-a667a3851531",
   "metadata": {},
   "outputs": [],
   "source": [
    "print(len(predictions))\n",
    "print(len(test_data))\n",
    "print(predictions)\n",
    "predictions_clean = test_data.dropna()\n",
    "print(len(test_data))\n",
    "preds=test_data\n",
    "#preds=preds[:-1]\n",
    "print(len(preds))"
   ]
  },
  {
   "cell_type": "code",
   "execution_count": null,
   "id": "490e66cb-ddcc-4417-9dc5-99da2e71b5f2",
   "metadata": {},
   "outputs": [],
   "source": [
    "preds=test_data\n",
    "#preds=preds[:-1]\n",
    "output = pd.DataFrame({'id': preds['id'], 'predicted_price': predictions})\n",
    "output = output.iloc[:len(predictions)]\n",
    "if len(predictions) < len(preds):\n",
    "    output = output.iloc[:len(predictions)]\n",
    "    \n",
    "output.to_csv('predicted_prices.csv', index=False)\n",
    "\n",
    "\n",
    "print(\"Predictions saved to predicted_prices.csv\")"
   ]
  },
  {
   "cell_type": "code",
   "execution_count": null,
   "id": "c4227029-061f-4eb4-bd85-8df2cf981197",
   "metadata": {},
   "outputs": [],
   "source": []
  },
  {
   "cell_type": "code",
   "execution_count": null,
   "id": "d87d1fc3-e31c-44e3-ac3e-84579c6b9d3e",
   "metadata": {},
   "outputs": [],
   "source": []
  }
 ],
 "metadata": {
  "kernelspec": {
   "display_name": "Python 3 (ipykernel)",
   "language": "python",
   "name": "python3"
  },
  "language_info": {
   "codemirror_mode": {
    "name": "ipython",
    "version": 3
   },
   "file_extension": ".py",
   "mimetype": "text/x-python",
   "name": "python",
   "nbconvert_exporter": "python",
   "pygments_lexer": "ipython3",
   "version": "3.10.14"
  }
 },
 "nbformat": 4,
 "nbformat_minor": 5
}
